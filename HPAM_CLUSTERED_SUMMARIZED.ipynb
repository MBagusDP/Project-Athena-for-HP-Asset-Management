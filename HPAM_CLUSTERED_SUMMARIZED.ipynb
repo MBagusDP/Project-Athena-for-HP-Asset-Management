{
 "cells": [
  {
   "cell_type": "markdown",
   "metadata": {},
   "source": [
    "# Generalizing, Clustering and Summarizing Task Title\n",
    "\n",
    "This ipython notebook is created for generalizing task in task title. I will be manually generalizing the task which has large amount of repeting keywords using Unigram and Bigram method. The rest of the data will be processed by clustering the task and summarizing the clustered task to get insight about the content of each cluster without having to look at it one by one."
   ]
  },
  {
   "cell_type": "markdown",
   "metadata": {},
   "source": [
    "#### *Import packages*"
   ]
  },
  {
   "cell_type": "code",
   "execution_count": 1,
   "metadata": {},
   "outputs": [],
   "source": [
    "import pandas as pd\n",
    "import numpy as np\n",
    "import statistics\n",
    "import nltk\n",
    "from Sastrawi.StopWordRemover.StopWordRemoverFactory import StopWordRemoverFactory\n",
    "from sklearn.feature_extraction.text import TfidfVectorizer\n",
    "from sklearn.cluster import KMeans\n",
    "from sklearn.metrics import adjusted_rand_score\n",
    "import matplotlib.pyplot as plt\n",
    "from matplotlib.gridspec import GridSpec"
   ]
  },
  {
   "cell_type": "markdown",
   "metadata": {},
   "source": [
    "#### *Import dataframe*"
   ]
  },
  {
   "cell_type": "code",
   "execution_count": null,
   "metadata": {},
   "outputs": [],
   "source": [
    "proms_df = pd.read_csv(\"CSV/PROMS_API_EXTRA.csv\")\n",
    "proms_df"
   ]
  },
  {
   "cell_type": "code",
   "execution_count": 3,
   "metadata": {},
   "outputs": [],
   "source": [
    "proms_df.title = pd.read_csv(\"Stemmed_Result/stemmed_title.txt\").title\n",
    "proms_df.remarks = pd.read_csv(\"Stemmed_Result/stemmed_remarks.txt\").remarks"
   ]
  },
  {
   "cell_type": "markdown",
   "metadata": {},
   "source": [
    "#### *Check and remove any null values*\n",
    "\n",
    "it is important to make sure that our data is free from null values. And when we remove them, we have to reset the index value to ensure that there is no skipped index numbers due to removal of the rows. Otherwise, the program will report error when running on the summarizing program when it reach a row which contains null values or missing row number. This is a very crucial step as I have run into this error while the program has run for 3 hours which is a waste of waiting time."
   ]
  },
  {
   "cell_type": "code",
   "execution_count": 4,
   "metadata": {},
   "outputs": [
    {
     "data": {
      "text/plain": [
       "title                 2\n",
       "remarks               5\n",
       "time_to_completion    0\n",
       "complexity            0\n",
       "related_parties       0\n",
       "score                 0\n",
       "created_at            0\n",
       "office                0\n",
       "division              0\n",
       "word_count            0\n",
       "dtype: int64"
      ]
     },
     "execution_count": 4,
     "metadata": {},
     "output_type": "execute_result"
    }
   ],
   "source": [
    "proms_df.isnull().sum()"
   ]
  },
  {
   "cell_type": "code",
   "execution_count": 5,
   "metadata": {},
   "outputs": [],
   "source": [
    "proms_df = proms_df[(proms_df.title.isnull() == False) & (proms_df.remarks.isnull() == False)].reset_index(drop=True)"
   ]
  },
  {
   "cell_type": "code",
   "execution_count": 6,
   "metadata": {},
   "outputs": [
    {
     "data": {
      "text/plain": [
       "title                 0\n",
       "remarks               0\n",
       "time_to_completion    0\n",
       "complexity            0\n",
       "related_parties       0\n",
       "score                 0\n",
       "created_at            0\n",
       "office                0\n",
       "division              0\n",
       "word_count            0\n",
       "dtype: int64"
      ]
     },
     "execution_count": 6,
     "metadata": {},
     "output_type": "execute_result"
    }
   ],
   "source": [
    "proms_df.isnull().sum()"
   ]
  },
  {
   "cell_type": "code",
   "execution_count": 7,
   "metadata": {},
   "outputs": [
    {
     "data": {
      "text/plain": [
       "(106386, 10)"
      ]
     },
     "execution_count": 7,
     "metadata": {},
     "output_type": "execute_result"
    }
   ],
   "source": [
    "proms_df.shape"
   ]
  },
  {
   "cell_type": "markdown",
   "metadata": {},
   "source": [
    "## Generalizing task title manually\n",
    "\n",
    "In this part, I will be generalizing tasks with the most common keywords from the existing task title. The reason behind this is because the most common task title can be easily identify manually. Doing manuall task genralization also help reduce the load of our computer to cluster and summarize our data.\n",
    "\n",
    "#### *Frequency of each title*"
   ]
  },
  {
   "cell_type": "code",
   "execution_count": null,
   "metadata": {
    "scrolled": false
   },
   "outputs": [],
   "source": [
    "pd.DataFrame(proms_df.title.value_counts())"
   ]
  },
  {
   "cell_type": "markdown",
   "metadata": {},
   "source": [
    "We can see that task title that contain call is more than 1. we could generalize all of them by the term \"call\". With the help of Unigram and Bigram, we can determine the most frequently used keywords to easily generalized the task titles."
   ]
  },
  {
   "cell_type": "markdown",
   "metadata": {},
   "source": [
    "#### *Unigram*"
   ]
  },
  {
   "cell_type": "code",
   "execution_count": null,
   "metadata": {},
   "outputs": [],
   "source": [
    "tokenized_title = pd.Series(np.concatenate(list(proms_df.title.str.split())))\n",
    "\n",
    "bahasaStopwords = StopWordRemoverFactory().get_stop_words()\n",
    "clean_tokenized_title = tokenized_title[~tokenized_title.isin(bahasaStopwords)]\n",
    "\n",
    "unigram_freq = pd.DataFrame(clean_tokenized_title).value_counts().sort_values(ascending=False)\n",
    "unigram_freq"
   ]
  },
  {
   "cell_type": "markdown",
   "metadata": {},
   "source": [
    "#### *Bigram*"
   ]
  },
  {
   "cell_type": "code",
   "execution_count": null,
   "metadata": {},
   "outputs": [],
   "source": [
    "bigram = []\n",
    "for value in proms_df.title:\n",
    "    tokenized = value.split()\n",
    "    tokenized = [word for word in tokenized if word not in bahasaStopwords]\n",
    "    zipped = nltk.ngrams(tokenized, 2)\n",
    "    lst = []\n",
    "    for item in zipped:\n",
    "        lst.append(item)\n",
    "    bigram.extend(lst)\n",
    "\n",
    "bigram_freq = pd.DataFrame(bigram).value_counts().sort_values(ascending=False)\n",
    "bigram_freq"
   ]
  },
  {
   "cell_type": "markdown",
   "metadata": {},
   "source": [
    "#### *Observing title values*\n",
    "\n",
    "With generated Unigram and Bigram frequencies, we should observe the sentences that contains those frequent keywords in order to remove any mixed task titles. For example, when looking at \"call\", we can see that there are many other frequently used keywords such as \"meeting\", \"concall\", and many more, which should be on a different task title."
   ]
  },
  {
   "cell_type": "code",
   "execution_count": null,
   "metadata": {
    "scrolled": true
   },
   "outputs": [],
   "source": [
    "observe_call = pd.DataFrame(proms_df.loc[proms_df.title.str.contains(\"call\")].value_counts(\"title\")).reset_index()\n",
    "observe_hubung = pd.DataFrame(proms_df.loc[proms_df.title.str.contains(\"hubu\")].value_counts(\"title\").reset_index())\n",
    "observe_telpon = pd.DataFrame(proms_df.loc[(proms_df.title.str.contains(\"telp\")) | (proms_df.title.str.contains(\"tele\"))].value_counts(\"title\").reset_index())\n",
    "observe_meeting = pd.DataFrame(proms_df.loc[proms_df.title.str.contains(\"meeting\")].value_counts(\"title\")).reset_index()\n",
    "observe_transaction = pd.DataFrame(proms_df.loc[proms_df.title.str.contains(\"trans\")].value_counts(\"title\")).reset_index()\n",
    "observe_update = pd.DataFrame(proms_df.loc[proms_df.title.str.contains(\"update\")].value_counts(\"title\")).reset_index()\n",
    "observe_up = pd.DataFrame(proms_df.loc[proms_df.title.str.contains(\"up \")].value_counts(\"title\")).reset_index()\n",
    "observe_review = pd.DataFrame(proms_df.loc[proms_df.title.str.contains(\"review\")].value_counts(\"title\").reset_index())\n",
    "observe_prospek = pd.DataFrame(proms_df.loc[proms_df.title.str.contains(\"prosp\")].value_counts(\"title\").reset_index())\n",
    "observe_cl = pd.DataFrame(proms_df.loc[proms_df.title.str.contains(\"cl\")].value_counts(\"title\").reset_index())\n",
    "observe_data = pd.DataFrame(proms_df.loc[proms_df.title.str.contains(\"data\")].value_counts(\"title\").reset_index())\n",
    "observe_daily = pd.DataFrame(proms_df.loc[proms_df.title.str.contains(\"daily\")].value_counts(\"title\").reset_index())\n",
    "observe_siar = pd.DataFrame(proms_df.loc[proms_df.title.str.contains(\"siar\")].value_counts(\"title\").reset_index())\n",
    "observe_nav = pd.DataFrame(proms_df.loc[proms_df.title.str.contains(\"nav\")].value_counts(\"title\").reset_index())\n",
    "\n",
    "observe_call"
   ]
  },
  {
   "cell_type": "code",
   "execution_count": null,
   "metadata": {},
   "outputs": [],
   "source": [
    "observe_call[observe_call.title.str.contains(\"meeting\")]"
   ]
  },
  {
   "cell_type": "markdown",
   "metadata": {},
   "source": [
    "Above we can see that the keyword \"call\" is not purely a task called \"call\". when \"call\" is combine with \"video\" or \"con\", the actual meaning behind the task title changed. a video call or a concall are supposed to be categorized as \"meeting\""
   ]
  },
  {
   "cell_type": "markdown",
   "metadata": {},
   "source": [
    "#### *Renaming task titles*\n",
    "\n",
    "After carefully selecting the task which falls under the same keyword category, we can rename them with the most general term possible that should explain the entire content of the task title and remarks."
   ]
  },
  {
   "cell_type": "code",
   "execution_count": 13,
   "metadata": {},
   "outputs": [
    {
     "name": "stderr",
     "output_type": "stream",
     "text": [
      "C:\\Users\\itlic\\AppData\\Local\\Temp\\ipykernel_14276\\616080463.py:1: SettingWithCopyWarning: \n",
      "A value is trying to be set on a copy of a slice from a DataFrame\n",
      "\n",
      "See the caveats in the documentation: https://pandas.pydata.org/pandas-docs/stable/user_guide/indexing.html#returning-a-view-versus-a-copy\n",
      "  proms_df.title.loc[(proms_df.title.str.contains(\"call\")) |\n",
      "C:\\Users\\itlic\\AppData\\Local\\Temp\\ipykernel_14276\\616080463.py:29: SettingWithCopyWarning: \n",
      "A value is trying to be set on a copy of a slice from a DataFrame\n",
      "\n",
      "See the caveats in the documentation: https://pandas.pydata.org/pandas-docs/stable/user_guide/indexing.html#returning-a-view-versus-a-copy\n",
      "  proms_df.title.loc[(proms_df.title.str.contains(\"meeting\")) |\n",
      "C:\\Users\\itlic\\AppData\\Local\\Temp\\ipykernel_14276\\616080463.py:37: SettingWithCopyWarning: \n",
      "A value is trying to be set on a copy of a slice from a DataFrame\n",
      "\n",
      "See the caveats in the documentation: https://pandas.pydata.org/pandas-docs/stable/user_guide/indexing.html#returning-a-view-versus-a-copy\n",
      "  proms_df.title.loc[proms_df.title.str.contains(\"trans\")] = \"transaction\"\n",
      "C:\\Users\\itlic\\AppData\\Local\\Temp\\ipykernel_14276\\616080463.py:38: SettingWithCopyWarning: \n",
      "A value is trying to be set on a copy of a slice from a DataFrame\n",
      "\n",
      "See the caveats in the documentation: https://pandas.pydata.org/pandas-docs/stable/user_guide/indexing.html#returning-a-view-versus-a-copy\n",
      "  proms_df.title.loc[(proms_df.title.str.contains(\"update\")) &\n",
      "C:\\Users\\itlic\\AppData\\Local\\Temp\\ipykernel_14276\\616080463.py:40: SettingWithCopyWarning: \n",
      "A value is trying to be set on a copy of a slice from a DataFrame\n",
      "\n",
      "See the caveats in the documentation: https://pandas.pydata.org/pandas-docs/stable/user_guide/indexing.html#returning-a-view-versus-a-copy\n",
      "  proms_df.title.loc[(proms_df.title.str.contains(\"saldo\"))] = \"balance\"\n",
      "C:\\Users\\itlic\\AppData\\Local\\Temp\\ipykernel_14276\\616080463.py:41: SettingWithCopyWarning: \n",
      "A value is trying to be set on a copy of a slice from a DataFrame\n",
      "\n",
      "See the caveats in the documentation: https://pandas.pydata.org/pandas-docs/stable/user_guide/indexing.html#returning-a-view-versus-a-copy\n",
      "  proms_df.title.loc[(proms_df.title.str.contains(\"up\")) &\n",
      "C:\\Users\\itlic\\AppData\\Local\\Temp\\ipykernel_14276\\616080463.py:43: SettingWithCopyWarning: \n",
      "A value is trying to be set on a copy of a slice from a DataFrame\n",
      "\n",
      "See the caveats in the documentation: https://pandas.pydata.org/pandas-docs/stable/user_guide/indexing.html#returning-a-view-versus-a-copy\n",
      "  proms_df.title.loc[(proms_df.title.str.contains(\"visit\")) |\n",
      "C:\\Users\\itlic\\AppData\\Local\\Temp\\ipykernel_14276\\616080463.py:45: SettingWithCopyWarning: \n",
      "A value is trying to be set on a copy of a slice from a DataFrame\n",
      "\n",
      "See the caveats in the documentation: https://pandas.pydata.org/pandas-docs/stable/user_guide/indexing.html#returning-a-view-versus-a-copy\n",
      "  proms_df.title.loc[(proms_df.title.str.contains(\"prospek\")) &\n",
      "C:\\Users\\itlic\\AppData\\Local\\Temp\\ipykernel_14276\\616080463.py:48: SettingWithCopyWarning: \n",
      "A value is trying to be set on a copy of a slice from a DataFrame\n",
      "\n",
      "See the caveats in the documentation: https://pandas.pydata.org/pandas-docs/stable/user_guide/indexing.html#returning-a-view-versus-a-copy\n",
      "  proms_df.title.loc[(proms_df.title.str.contains(\"review\"))] = \"review\"\n",
      "C:\\Users\\itlic\\AppData\\Local\\Temp\\ipykernel_14276\\616080463.py:49: SettingWithCopyWarning: \n",
      "A value is trying to be set on a copy of a slice from a DataFrame\n",
      "\n",
      "See the caveats in the documentation: https://pandas.pydata.org/pandas-docs/stable/user_guide/indexing.html#returning-a-view-versus-a-copy\n",
      "  proms_df.title.loc[(proms_df.title.str.contains(\"cl\")) &\n",
      "C:\\Users\\itlic\\AppData\\Local\\Temp\\ipykernel_14276\\616080463.py:51: SettingWithCopyWarning: \n",
      "A value is trying to be set on a copy of a slice from a DataFrame\n",
      "\n",
      "See the caveats in the documentation: https://pandas.pydata.org/pandas-docs/stable/user_guide/indexing.html#returning-a-view-versus-a-copy\n",
      "  proms_df.title.loc[(proms_df.title.str.contains(\"data\"))] = \"data\"\n",
      "C:\\Users\\itlic\\AppData\\Local\\Temp\\ipykernel_14276\\616080463.py:52: SettingWithCopyWarning: \n",
      "A value is trying to be set on a copy of a slice from a DataFrame\n",
      "\n",
      "See the caveats in the documentation: https://pandas.pydata.org/pandas-docs/stable/user_guide/indexing.html#returning-a-view-versus-a-copy\n",
      "  proms_df.title.loc[(proms_df.title.str.contains(\"daily\"))] = \"daily\"\n"
     ]
    }
   ],
   "source": [
    "proms_df.title.loc[(proms_df.title.str.contains(\"call\")) |\n",
    "                     (proms_df.title.str.contains(\"hubu\")) |\n",
    "                     (proms_df.title.str.contains(\"telp\")) |\n",
    "                     (proms_df.title.str.contains(\"tele\")) &\n",
    "                     (~proms_df.title.str.contains(\"meeting\")) &\n",
    "                     (~proms_df.title.str.contains(\"concall\")) &\n",
    "                     (~proms_df.title.str.contains(\"video\")) &\n",
    "                     (~proms_df.title.str.contains(\"conf\")) &\n",
    "                     (~proms_df.title.str.contains(\"con call\")) &\n",
    "                     (~proms_df.title.str.contains(\"extension\")) &\n",
    "                     (~proms_df.title.str.contains(\"telegram\")) &\n",
    "                     (~proms_df.title.str.contains(\"cek\")) &\n",
    "                     (~proms_df.title.str.contains(\"lapor\")) &\n",
    "                     (~proms_df.title.str.contains(\"review\")) &\n",
    "                     (~proms_df.title.str.contains(\"setting\")) &\n",
    "                     (~proms_df.title.str.contains(\"salur\")) &\n",
    "                     (~proms_df.title.str.contains(\"bisa\")) &\n",
    "                     (~proms_df.title.str.contains(\"surat\")) &\n",
    "                     (~proms_df.title.str.contains(\"troubleshoot\")) &\n",
    "                     (~proms_df.title.str.contains(\"mati\")) &\n",
    "                     (~proms_df.title.str.contains(\"ubah\")) &\n",
    "                     (~proms_df.title.str.contains(\"biaya\")) &\n",
    "                     (~proms_df.title.str.contains(\"input\")) &\n",
    "                     (~proms_df.title.str.contains(\"telecom\")) &\n",
    "                     (~proms_df.title.str.contains(\"tagih\")) &\n",
    "                     (~proms_df.title.str.contains(\"bank\")) &\n",
    "                     (~proms_df.title.str.contains(\"cek\"))] = \"call\"\n",
    "\n",
    "proms_df.title.loc[(proms_df.title.str.contains(\"meeting\")) |\n",
    "                     (proms_df.title.str.contains(\"concall\")) |\n",
    "                     (proms_df.title.str.contains(\"video call\")) |\n",
    "                     (proms_df.title.str.contains(\"confere\")) |\n",
    "                     (proms_df.title.str.contains(\"confr\")) |\n",
    "                     (proms_df.title.str.contains(\"con call\")) |\n",
    "                     (proms_df.title.str.contains(\"zoom\"))] = \"meeting\"\n",
    "\n",
    "proms_df.title.loc[proms_df.title.str.contains(\"trans\")] = \"transaction\"\n",
    "proms_df.title.loc[(proms_df.title.str.contains(\"update\")) &\n",
    "                     (~proms_df.title.str.contains(\"saldo\"))] = \"update\"\n",
    "proms_df.title.loc[(proms_df.title.str.contains(\"saldo\"))] = \"balance\"\n",
    "proms_df.title.loc[(proms_df.title.str.contains(\"up\")) &\n",
    "                     (proms_df.title.str.contains(\"follow\"))] = \"follow-up\"\n",
    "proms_df.title.loc[(proms_df.title.str.contains(\"visit\")) |\n",
    "                     (proms_df.title.str.contains(\"kunj\"))] = \"visit\"\n",
    "proms_df.title.loc[(proms_df.title.str.contains(\"prospek\")) &\n",
    "                     (~proms_df.title.str.contains(\"prospektus\")) &\n",
    "                     (~proms_df.title.str.contains(\"prospectus\"))] = \"prospect\"\n",
    "proms_df.title.loc[(proms_df.title.str.contains(\"review\"))] = \"review\"\n",
    "proms_df.title.loc[(proms_df.title.str.contains(\"cl\")) &\n",
    "                     (~proms_df.title.str.contains(\"cl[aiuoe]\"))] = \"confirmation-letter\"\n",
    "proms_df.title.loc[(proms_df.title.str.contains(\"data\"))] = \"data\"\n",
    "proms_df.title.loc[(proms_df.title.str.contains(\"daily\"))] = \"daily\""
   ]
  },
  {
   "cell_type": "code",
   "execution_count": null,
   "metadata": {},
   "outputs": [],
   "source": [
    "processed_title = proms_df.loc[proms_df.title.isin([\"call\", \"meeting\",  \"transaction\", \"update\", \"balance\",\\\n",
    "                                                        \"follow-up\", \"visit\", \"prospect\", \"review\", \"confirmation-letter\",\\\n",
    "                                                        \"data\", \"daily\"])].reset_index(drop=True)\n",
    "processed_title.to_csv(\"CSV/processed_titles.csv\", index=False)\n",
    "processed_title"
   ]
  },
  {
   "cell_type": "markdown",
   "metadata": {},
   "source": [
    "At this point, the task Unigram and Bigram frequency are no longer significantly bigger in comparison with the rest of it's values. We can now proceed to generelize our task titles with the help of clustering and summrizing."
   ]
  },
  {
   "cell_type": "markdown",
   "metadata": {},
   "source": [
    "## Generalizing Task Tittle By Clustering and Summarizing The \n",
    "\n",
    "#### *Separating the unprocessed titles from the processed titles*"
   ]
  },
  {
   "cell_type": "code",
   "execution_count": null,
   "metadata": {},
   "outputs": [],
   "source": [
    "unprocessed_title = proms_df[~proms_df.title.isin(processed_title.title)]\n",
    "unprocessed_title.to_csv(\"CSV/unprocessed_titles.csv\", index=False)\n",
    "unprocessed_title"
   ]
  },
  {
   "cell_type": "markdown",
   "metadata": {},
   "source": [
    "#### *Clustering*\n",
    "\n",
    "In theory, when clustering our data for job classification, we should use the sentences inside the column named remarks as they are the detailed description about what type of job it actually is."
   ]
  },
  {
   "cell_type": "code",
   "execution_count": 16,
   "metadata": {},
   "outputs": [],
   "source": [
    "vectorizer = TfidfVectorizer(stop_words=bahasaStopwords)\n",
    "X = vectorizer.fit_transform(unprocessed_title.title)"
   ]
  },
  {
   "cell_type": "markdown",
   "metadata": {},
   "source": [
    "#### *Elbow plot*\n",
    "\n",
    "When we do not have any clue on how many clusters we should generate, generating elbow plot help us determine which number of cluster should we create"
   ]
  },
  {
   "cell_type": "code",
   "execution_count": 17,
   "metadata": {},
   "outputs": [
    {
     "data": {
      "image/png": "[encoded data removed]",
      "text/plain": [
       "<Figure size 1440x720 with 1 Axes>"
      ]
     },
     "metadata": {
      "needs_background": "light"
     },
     "output_type": "display_data"
    }
   ],
   "source": [
    "sse = []\n",
    "for k in range(1, 50):\n",
    "    km = KMeans(n_clusters=k, init='k-means++', max_iter=100, n_init=1, random_state=126).fit(X)\n",
    "    sse.append(km.inertia_)\n",
    "\n",
    "plt.rcParams[\"figure.figsize\"] = [20, 10] \n",
    "plt.plot(range(1, 50), sse)\n",
    "plt.xticks(np.arange(0, 50, 1))\n",
    "plt.grid(visible=True, axis=\"x\", linestyle=\"--\")"
   ]
  },
  {
   "cell_type": "markdown",
   "metadata": {},
   "source": [
    "I decided to create a total of 4 clusters based on the elbow plot analysis"
   ]
  },
  {
   "cell_type": "markdown",
   "metadata": {},
   "source": [
    "#### *Generating cluster group*"
   ]
  },
  {
   "cell_type": "code",
   "execution_count": 18,
   "metadata": {},
   "outputs": [],
   "source": [
    "true_k = [7, 22, 29, 39]\n",
    "clustered_df = pd.DataFrame({\"title\": unprocessed_title.title}).reset_index(drop=True)\n",
    "\n",
    "for k in true_k:\n",
    "    model = KMeans(n_clusters=k, init='k-means++', max_iter=100, n_init=1, random_state=126)\n",
    "    clustered_df = pd.concat([clustered_df, pd.DataFrame({\"cluster_\" + str(k): model.fit_predict(X)})], axis=1)\n",
    "\n",
    "# Save it to your local file directory so you don't have to repeat this process again in the future\n",
    "clustered_df.to_csv(\"CSV/cluster_title_2.csv\", index=False)"
   ]
  },
  {
   "cell_type": "code",
   "execution_count": null,
   "metadata": {},
   "outputs": [],
   "source": [
    "\n",
    "clustered_title = pd.read_csv(\"CSV/cluster_title_2.csv\")\n",
    "clustered_title"
   ]
  },
  {
   "cell_type": "markdown",
   "metadata": {},
   "source": [
    "#### *Distribution of cluster from each cluster group*"
   ]
  },
  {
   "cell_type": "code",
   "execution_count": 20,
   "metadata": {},
   "outputs": [
    {
     "data": {
      "image/png": "[encoded data removed]",
      "text/plain": [
       "<Figure size 1440x720 with 4 Axes>"
      ]
     },
     "metadata": {
      "needs_background": "light"
     },
     "output_type": "display_data"
    }
   ],
   "source": [
    "clusters = clustered_title.drop(columns=[\"title\"]).columns.str.extract(\"(\\d+)\")[0]\n",
    "\n",
    "fig = plt.figure(figsize=(np.ceil(np.sqrt(len(clusters)))*10, (np.ceil(np.sqrt(len(clusters)))-1)*10))\n",
    "gs = GridSpec(nrows=int(np.ceil(np.sqrt(len(clusters)))), ncols=int(np.ceil(np.sqrt(len(clusters)))))\n",
    "i = 0\n",
    "j = 0\n",
    "\n",
    "for cluster in clustered_title.drop(columns=[\"title\"]).columns.str.extract(\"(\\d+)\")[0]:\n",
    "    ax = fig.add_subplot(gs[i, j])\n",
    "    i = i + 1\n",
    "    if i > np.floor(np.sqrt(len(clusters)))-1:\n",
    "        i = 0\n",
    "        j = j + 1\n",
    "    barplt_cluster = clustered_title[\"cluster_\" + str(cluster)].value_counts().rename(\"freq\").reset_index().rename(columns={\"index\": \"cluster\"})\n",
    "    plt.bar(barplt_cluster.cluster, barplt_cluster.freq)\n",
    "    plt.title(\"Cluster: {}\".format(cluster))\n",
    "\n",
    "plt.show()"
   ]
  },
  {
   "cell_type": "markdown",
   "metadata": {},
   "source": [
    "#### *Summarizing text*\n",
    "\n",
    "WARNING: depending on the amount of data that you process, it can take hours to process. Be sure to thouroughly process and do double check to your data preparation before running this program"
   ]
  },
  {
   "cell_type": "code",
   "execution_count": null,
   "metadata": {},
   "outputs": [],
   "source": [
    "for clust in clustered_title.drop(columns=[\"title\"]).columns.str.extract(\"(\\d+)\")[0]:\n",
    "    print(\"Cluster group:\", clust)\n",
    "    for i in range(0, len(clustered_title[\"cluster_\" + str(clust)].unique())):\n",
    "        print(\"   Cluster number:\", i)\n",
    "        tokenized = pd.Series(np.concatenate(list(clustered_title[clustered_title[\"cluster_\" + str(clust)] == i].title.str.split())))\n",
    "\n",
    "        bahasaStopwords = StopWordRemoverFactory().get_stop_words()\n",
    "        clean_tokenized = tokenized[~tokenized.isin(bahasaStopwords)]\n",
    "\n",
    "        unigram = pd.DataFrame(pd.DataFrame(clean_tokenized).\\\n",
    "                               value_counts().\\\n",
    "                               sort_values(ascending=False)).\\\n",
    "                  rename(columns={0: \"freq\"}).reset_index().\\\n",
    "                  rename(columns={0: \"word\"})\n",
    "        \n",
    "        # print(\"   Number of unigram:\", len(unigram))\n",
    "                    \n",
    "        points = []\n",
    "        for j in range(0, len(clustered_title[clustered_title[\"cluster_\" + str(clust)] == i].reset_index(drop=True).title.unique())):\n",
    "            print(\"      Row number:\", j)\n",
    "            lst = []\n",
    "            for k in range(0, len(unigram[unigram.freq > statistics.median(unigram.freq.unique())])):\n",
    "                word = unigram[unigram.freq > statistics.median(unigram.freq.unique())].word[k]\n",
    "                freq = unigram[unigram.freq > statistics.median(unigram.freq.unique())].freq[k]\n",
    "                if word in pd.Series(clustered_title[clustered_title[\"cluster_\" + str(clust)] == i].\\\n",
    "                                     reset_index(drop=True).title.unique())[j].split():\n",
    "                    lst.append(freq)\n",
    "            if len(lst) != 0:\n",
    "                points.append(round(sum(lst)/len(lst)))\n",
    "            else:\n",
    "                points.append(0)\n",
    "\n",
    "        pd.Series(points).rename(\"point\").to_csv(\"CSV/Summarized_CSV/Cluster_\" + str(clust) + \"/title_\" + str(clust) + \"_\" + str(i) + \"_points.csv\", index=False)\n",
    "        \n",
    "    print(\"\")"
   ]
  },
  {
   "cell_type": "markdown",
   "metadata": {},
   "source": [
    "## Result"
   ]
  },
  {
   "cell_type": "code",
   "execution_count": null,
   "metadata": {},
   "outputs": [],
   "source": [
    "pd.read_csv(\"CSV/Summarized_CSV/Cluster_7/title_7_0_points.csv\")"
   ]
  }
 ],
 "metadata": {
  "interpreter": {
   "hash": "e05502b91adcfba00f58025fc677fffef78f32d3ff10df41c97f8826c2d9dace"
  },
  "kernelspec": {
   "display_name": "athena",
   "language": "python",
   "name": "athena"
  },
  "language_info": {
   "codemirror_mode": {
    "name": "ipython",
    "version": 3
   },
   "file_extension": ".py",
   "mimetype": "text/x-python",
   "name": "python",
   "nbconvert_exporter": "python",
   "pygments_lexer": "ipython3",
   "version": "3.9.7"
  },
  "orig_nbformat": 4
 },
 "nbformat": 4,
 "nbformat_minor": 2
}
