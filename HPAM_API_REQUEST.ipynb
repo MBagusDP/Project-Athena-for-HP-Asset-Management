{
 "cells": [
  {
   "cell_type": "markdown",
   "metadata": {},
   "source": [
    "# Request data from PROMS API\n",
    "\n",
    "\n",
    "#### *Import packages*"
   ]
  },
  {
   "cell_type": "code",
   "execution_count": 9,
   "metadata": {},
   "outputs": [],
   "source": [
    "import pandas as pd\n",
    "import openpyxl\n",
    "import json\n",
    "import requests\n",
    "from datetime import datetime"
   ]
  },
  {
   "cell_type": "markdown",
   "metadata": {},
   "source": [
    "#### *Request data from API as JSON and convert it into DataFrame*"
   ]
  },
  {
   "cell_type": "code",
   "execution_count": null,
   "metadata": {},
   "outputs": [],
   "source": [
    "# Prepare division and office DataFrame and empty DataFrame to be filled\n",
    "div = pd.read_excel(\"Excel/divisi.xlsx\")\n",
    "proms_df = pd.DataFrame()\n",
    "\n",
    "# Request then convert data to DataFrame\n",
    "for j in div.id:\n",
    "    # header = {\"param1\": \"param item\"}\n",
    "    # param = {\"param2\": j}\n",
    "    # json_data = requests.post(\"Your API URL here\",\n",
    "                               headers=header, data=param)\n",
    "    if json_data.json()[\"success\"] == True:\n",
    "        # df = pd.json_normalize(json_data.json(), \"message\")\n",
    "        # df[\"division\"] = div.loc[div.id == j, \"nama_divisi\"].values[0]\n",
    "        proms_df = pd.concat([proms_df, df])\n",
    "\n",
    "# # Preview DataFrame\n",
    "proms_df"
   ]
  },
  {
   "cell_type": "markdown",
   "metadata": {},
   "source": [
    "*Renaming columns*"
   ]
  },
  {
   "cell_type": "code",
   "execution_count": null,
   "metadata": {},
   "outputs": [],
   "source": [
    "proms_df = proms_df.rename(columns={\"ttc\": \"time_to_completion\", \"cxy\": \"complexity\", \"rps\": \"related_parties\"})\n",
    "proms_df.head()"
   ]
  },
  {
   "cell_type": "markdown",
   "metadata": {},
   "source": [
    "#### *Remove unusable data and create new column*"
   ]
  },
  {
   "cell_type": "code",
   "execution_count": null,
   "metadata": {},
   "outputs": [],
   "source": [
    "proms_df = proms_df.loc[(proms_df.time_to_completion != 0) &\n",
    "                        (proms_df.complexity != 0) &\n",
    "                        (proms_df.related_parties != 0) &\n",
    "                        (proms_df.score != 0) &\n",
    "                        (~proms_df.remarks.isna()) &\n",
    "                        (~proms_df.score.isna())]\n",
    "proms_df[\"word_count\"] = proms_df.remarks.str.split().str.len()\n",
    "proms_df.head()"
   ]
  },
  {
   "cell_type": "markdown",
   "metadata": {},
   "source": [
    "#### *Save DataFrame as CSV and XLSX*"
   ]
  },
  {
   "cell_type": "code",
   "execution_count": 17,
   "metadata": {},
   "outputs": [],
   "source": [
    "proms_df.to_csv(\"CSV/PROMS_API_\" + str(datetime.date(datetime.now())) + \".csv\", index=False)\n",
    "proms_df.to_excel(\"Excel/PROMS_API_\" + str(datetime.date(datetime.now())) + \".xlsx\", index=False)"
   ]
  }
 ],
 "metadata": {
  "interpreter": {
   "hash": "e05502b91adcfba00f58025fc677fffef78f32d3ff10df41c97f8826c2d9dace"
  },
  "kernelspec": {
   "display_name": "athena",
   "language": "python",
   "name": "athena"
  },
  "language_info": {
   "codemirror_mode": {
    "name": "ipython",
    "version": 3
   },
   "file_extension": ".py",
   "mimetype": "text/x-python",
   "name": "python",
   "nbconvert_exporter": "python",
   "pygments_lexer": "ipython3",
   "version": "3.9.7"
  }
 },
 "nbformat": 4,
 "nbformat_minor": 2
}
